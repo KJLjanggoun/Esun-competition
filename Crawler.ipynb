{
 "cells": [
  {
   "cell_type": "markdown",
   "metadata": {},
   "source": [
    "## 內容區"
   ]
  },
  {
   "cell_type": "code",
   "execution_count": 4,
   "metadata": {},
   "outputs": [
    {
     "name": "stdout",
     "output_type": "stream",
     "text": [
      "C:\\Users\\LU\\Desktop\\python\n"
     ]
    }
   ],
   "source": [
    "import os\n",
    "print(os.getcwd())"
   ]
  },
  {
   "cell_type": "code",
   "execution_count": 62,
   "metadata": {},
   "outputs": [
    {
     "name": "stdout",
     "output_type": "stream",
     "text": [
      "Index(['news_ID', 'hyperlink', 'content', 'name'], dtype='object')\n"
     ]
    }
   ],
   "source": [
    "import pandas as pd\n",
    "tab=pd.read_excel('Sample_with_names.xlsx')\n",
    "print(tab.columns)"
   ]
  },
  {
   "cell_type": "code",
   "execution_count": 63,
   "metadata": {},
   "outputs": [
    {
     "name": "stdout",
     "output_type": "stream",
     "text": [
      "     news_ID                                          hyperlink  \\\n",
      "0         15            https://udn.com/news/story/7321/3845624   \n",
      "1         18        https://news.ebc.net.tw/News/Article/162125   \n",
      "2         38  https://news.ltn.com.tw/news/society/breakingn...   \n",
      "3         41  http://news.ltn.com.tw/news/society/breakingne...   \n",
      "4         66  https://news.ltn.com.tw/news/society/paper/131...   \n",
      "5         73  https://www.chinatimes.com/realtimenews/201812...   \n",
      "6         96  https://news.ltn.com.tw/news/society/breakingn...   \n",
      "7        108    https://www.mirrormedia.mg/story/20190131soc001   \n",
      "8        121  https://news.ltn.com.tw/news/society/breakingn...   \n",
      "9        140  https://money.udn.com/money/story/5648/4005282...   \n",
      "10       150  https://udn.com/news/story/7321/3833161?from=u...   \n",
      "11       151            https://udn.com/news/story/7321/3745835   \n",
      "12       166  https://news.ltn.com.tw/news/society/breakingn...   \n",
      "13       175  http://news.ltn.com.tw/news/society/breakingne...   \n",
      "14       177  https://udn.com/news/story/6656/3788408?from=u...   \n",
      "15       193  https://news.ltn.com.tw/news/life/breakingnews...   \n",
      "16       198  https://www.chinatimes.com/newspapers/20190307...   \n",
      "17       209  https://tw.news.yahoo.com/%E5%BB%89%E6%94%BF-%...   \n",
      "18       220  https://www.chinatimes.com/realtimenews/201902...   \n",
      "19       225       https://www.setn.com/News.aspx?NewsID=606443   \n",
      "20       246  https://tw.news.yahoo.com/%E6%9B%BF%E8%A9%90%E...   \n",
      "21       269            https://udn.com/news/story/7315/3710851   \n",
      "22       272  https://news.ltn.com.tw/news/society/breakingn...   \n",
      "23       280            https://udn.com/news/story/7321/4040144   \n",
      "24       281  https://tw.news.yahoo.com/%E5%B7%A5%E7%A8%8B%E...   \n",
      "25       291  http://news.ltn.com.tw/news/society/breakingne...   \n",
      "26       315  https://www.chinatimes.com/realtimenews/201905...   \n",
      "27       326  https://www.chinatimes.com/realtimenews/201812...   \n",
      "28       327            https://udn.com/news/story/7321/4028581   \n",
      "29       345  https://news.ltn.com.tw/news/world/breakingnew...   \n",
      "..       ...                                                ...   \n",
      "342     4728  https://news.ltn.com.tw/news/society/breakingn...   \n",
      "343     4739  https://news.ltn.com.tw/news/society/breakingn...   \n",
      "344     4740  https://news.ltn.com.tw/news/society/breakingn...   \n",
      "345     4752            https://udn.com/news/story/7315/3674909   \n",
      "346     4765  http://news.ltn.com.tw/news/society/breakingne...   \n",
      "347     4766  https://www.ettoday.net/news/20190731/1502896.htm   \n",
      "348     4769  https://news.ltn.com.tw/news/society/breakingn...   \n",
      "349     4775       https://www.setn.com/News.aspx?NewsID=491236   \n",
      "350     4780  https://news.ltn.com.tw/news/society/paper/130...   \n",
      "351     4781     https://money.udn.com/money/story/5648/4078297   \n",
      "352     4787  https://www.chinatimes.com/realtimenews/201910...   \n",
      "353     4795     https://money.udn.com/money/story/5648/3721782   \n",
      "354     4800  https://www.cna.com.tw/news/asoc/201908270115....   \n",
      "355     4802  https://news.ltn.com.tw/news/society/breakingn...   \n",
      "356     4826  http://news.ltn.com.tw/news/society/paper/1257907   \n",
      "357     4841            https://udn.com/news/story/7321/4045376   \n",
      "358     4852  https://news.ltn.com.tw/news/society/breakingn...   \n",
      "359     4860  https://www.cna.com.tw/news/asoc/201908070279....   \n",
      "360     4863             https://house.ettoday.net/news/1522144   \n",
      "361     4886  https://www.chinatimes.com/realtimenews/201901...   \n",
      "362     4890  https://www.ettoday.net/news/20190917/1536776.htm   \n",
      "363     4932  http://news.ltn.com.tw/news/society/breakingne...   \n",
      "364     4944            https://udn.com/news/story/7321/3722197   \n",
      "365     4946            https://udn.com/news/story/7315/3742787   \n",
      "366     4950  https://www.chinatimes.com/realtimenews/201910...   \n",
      "367     4953  https://www.ettoday.net/news/20190923/1541202.htm   \n",
      "368     4972  https://news.ltn.com.tw/news/politics/paper/13...   \n",
      "369     4980  https://news.ltn.com.tw/news/society/breakingn...   \n",
      "370     4981  https://tw.news.yahoo.com/%E6%B6%89%E8%B2%AA%E...   \n",
      "371     4996  https://www.chinatimes.com/realtimenews/201908...   \n",
      "\n",
      "                                               content  \\\n",
      "0    台北地院審理生產東亞燈具的上市公司中國電器掏空案 ### 省略內文 ### 掏空公司資產2億...   \n",
      "1                    自稱房產幽默大師的王派宏 ### 省略內文 ### 能夠盡早面對。   \n",
      "2    12年前爆發的花蓮縣壽豐鄉鯉魚潭風景區的「綠湖國際大飯店」開發弊案 ### 省略內文 ###...   \n",
      "3            〔記者楊國文／台北報導〕「台灣第一家」有限公司 ### 省略內文 ### 或追徵。   \n",
      "4            苗栗縣一群外籍配偶向本報投訴 ### 省略內文 ### 才能認定是否涉及刑事刑責。   \n",
      "5    捲入馬勝金融集團（MaximTrader）吸金案 ### 省略內文 ### 其餘10人均為廖...   \n",
      "6    新零售（3085）前身、台灣第一家上櫃的網路公司「久大資訊」 ### 省略內文 ### 希望...   \n",
      "7    前國防部政治作戰總隊總隊長王光遠將軍的妻子楚瑞芳 ### 省略內文 ### 根本不是楚女說的...   \n",
      "8    新竹市中正市場得標廠商力揚展業負責人、竹市攤販協會理事長林良琪 ### 省略內文 ### 再...   \n",
      "9            台北地檢署偵辦國安特勤私菸案 ### 省略內文 ### 各以5萬元至20萬元交保。   \n",
      "10   調查局再爆重大風紀案。台南市調查處府城站副主任劉明冠涉嫌在搜索「三聯國際集團」吸金案前 ##...   \n",
      "11           女房東張淑晶近年因租賃糾紛頻與房客訴訟 ### 省略內文 ### 法官諭知候核辦。   \n",
      "12      交通部觀光局茂林國家風景區管理處前處長許正雄被控收回扣案 ### 省略內文 ### 可上訴。   \n",
      "13   ［記者楊政郡／台中報導］位於高雄帝潮公司（螺絲生產商） ### 省略內文 ### 判黃哲修1...   \n",
      "14           法務部長蔡清祥昨天在立法院證實 ### 省略內文 ### 扁家共五案處於暫停訴訟。   \n",
      "15   前新北市副市長許志堅2015年因收受建商賄賂 ### 省略內文 ### 板橋介壽段將請申請人...   \n",
      "16   自爆！2018年彰化縣埔鹽鄉民代表當選人黃振榮與陳武騰 ### 省略內文 ### 目前仍羈押...   \n",
      "17                  曾在電視劇《廉政英雄》 ### 省略內文 ### 斷送自己的演藝路。   \n",
      "18   美商「88invest.com」台灣區負責人、馬來西亞籍男子劉進福（Liew choon f...   \n",
      "19                  高雄近日爆發「直播主之亂」 ### 省略內文 ### 避免衍生風波。   \n",
      "20             警方破獲國人到海外作案的詐騙集團 ### 省略內文 ### 查扣相關資料送辦。   \n",
      "21   北市警中正二分局偵查佐林昱伯被控夥同毒販周漢祥及林煒智等人在新竹一處民宅栽種大麻 ### 省...   \n",
      "22            見豐貿易有限公司涉嫌竄改過期進口食品有效日期 ### 省略內文 ### 可上訴。   \n",
      "23   合茂科技前負責人楊正平因涉嫌協助連鎖早餐店「紅橘子」老闆蔡思庭洗錢上億元 ### 省略內文 ...   \n",
      "24   台北市南港區富台工程股份有限公司前董事長林文章（53歲）涉嫌於2017年6月擔任公司董事長期...   \n",
      "25     〔記者黃建華／高雄報導〕高雄一名廖姓男子 ### 省略內文 ### 廖男因此獲判免訴。可上訴。   \n",
      "26   前合庫南京西路分行經理李深淵、襄理黃文焱、專員賴建誠 ### 省略內文 ### 依銀行法背信...   \n",
      "27   彰化縣花壇鄉金裕晟酒業公司涉嫌以食用酒精、香料調製風味近似真酒的的威士忌及高粱酒裝瓶黏貼虛偽...   \n",
      "28    65歲詐貸阿伯許祈文 ### 省略內文 ### 並追徵未償還的卡債25萬5753元。全案可上訴。   \n",
      "29   越南警方週六（11日）在胡志明市郊區查獲約500公斤毒品K他命販運案件 ### 省略內文 #...   \n",
      "..                                                 ...   \n",
      "342   國民黨籍新竹市北區市議員顏政德遭檢調搜索 ### 省略內文 ### 並應提供210小時義務勞務。   \n",
      "343                     台中地檢署指揮中打 ### 省略內文 ### 協助提供證據。   \n",
      "344            緯創集團旗下宗盈科技的汽車外銷業務林政賢 ### 省略內文 ### 將他起訴。   \n",
      "345  雲林虎尾警分局前偵查佐林煜傑7年因貪污遭判12年潛逃大陸後 ### 省略內文 ### 罰金得...   \n",
      "346  〔記者蔡彰盛／新竹報導〕國民黨新竹縣竹北市代會主席林啟賢與國中同學溫良明共同涉嫌詐領薪資 #...   \n",
      "347  新北市三之區的珊瑚貝殼廟（原名：富福頂山寺）的第一任管委會副主委李佰全 ### 省略內文 #...   \n",
      "348  〔記者張文川／台北報導〕高雄市警局前三民二分局長李世昌 ### 省略內文 ### 自為判決改...   \n",
      "349             主嫌林耿宏是集團的精神領袖 ### 省略內文 ### 恐怕類似行徑不會停止。   \n",
      "350  超跑車壇頗具知名度的「Beta Auto」北塔車業老闆、超跑達人鄧超鴻 ### 省略內文 #...   \n",
      "351  金錢豹餐飲集團等擔任工程部副理的洪勝明 ### 省略內文 ### 也在「寶麗金鑫悅富餐廳-崇...   \n",
      "352  喧騰一時的「OurPPC」涉網路關鍵字吸金4億元案 ### 省略內文 ### 近日將進一步發...   \n",
      "353       成立60年的南港輪胎公司是台灣歷史悠久的輪胎製造商 ### 省略內文 ### 仍可上訴。   \n",
      "354  保安警察第二總隊刑事警察大隊小隊長陳揚宗被控利用查緝仿冒品案 ### 省略內文 ### 且被...   \n",
      "355      男子林繼蘇與前跆拳道國手徐詩彥利用買賣水產的名義 ### 省略內文 ### 減少3年刑期。   \n",
      "356  〔記者曾健銘／新北報導〕新北市新莊區32歲毒蟲林家興 ### 省略內文 ### 訊後依違反毒...   \n",
      "357            桃園市府前經發局長朱松偉被控利用權勢 ### 省略內文 ### 形同變相收賄。   \n",
      "358  「紐西蘭農莊、晴山開發團隊」負責人陳銘璋在苗栗獅潭推出「林間雅境」小木屋被認定違建後 ###...   \n",
      "359                     男子陳清江計畫走私香菸 ### 省略內文 ### 全案確定。   \n",
      "360               防火塗料涉嫌摻雜澱粉等劣質材料 ### 省略內文 ### 將該夫婦判刑。   \n",
      "361  曾獲模範警察「金吾獎」的台北市中正二分局偵查佐邱世忠 ### 省略內文 ### 最高法院駁回定讞。   \n",
      "362        坊間最近出現一家「藝識流身心靈療癒學院」 ### 省略內文 ### 我們才沒有提告。」   \n",
      "363  〔記者李立法／屏東報導〕前屏東教育大學視覺藝術學系教授林右正等人涉嫌圍標公共藝術工程案 ##...   \n",
      "364  前民進黨籍立委邱垂貞遭控收受中藥商公會成員賄賂 ### 省略內文 ### 最高法院今天再度發...   \n",
      "365    加拿大華僑林孟函夥同哥哥及友人 ### 省略內文 ### 員警再循線逮獲彭紹軒、郭雨隴等人。    \n",
      "366    被封為「舞蹈界性感女神」的知名舞蹈老師Kimiko林睿君 ### 省略內文 ### 全案定讞。   \n",
      "367             台北科技大學前教授王隆昌 ### 省略內文 ### 最高法院23日駁回確定。   \n",
      "368        中華統一促進黨總裁「白狼」張安樂及其子張瑋 ### 省略內文 ### 直呼「太扯了！」   \n",
      "369        曾被週刊爆料涉嫌假冒華固建設高層 ### 省略內文 ### 她因此再吃上加重誹謗官司。   \n",
      "370           桃園市議員邱佳亮被控貪污案 ### 省略內文 ### 則沒入保證金。全案可抗告。   \n",
      "371         前立委郭政權被控涉入機場捷運BOT案仲裁弊案 ### 省略內文 ### 仍積極追討。   \n",
      "\n",
      "                                                  name  test  \n",
      "0                                ['周麗真', '張志偉', '陳逢璿']     0  \n",
      "1                                              ['王派宏']     0  \n",
      "2                                ['王桂霜', '李威儀', '藍秀琪']     0  \n",
      "3                                       ['陳鏡如', '陳星佑']     0  \n",
      "4                                              ['朱小蓉']     0  \n",
      "5                                              ['廖泰宇']     0  \n",
      "6                                ['鄭博文', '徐金龍', '李大彰']     0  \n",
      "7                                ['彭振源', '王澤生', '楚瑞芳']     0  \n",
      "8                                ['楊展業', '林良琪', '戴吟曲']     0  \n",
      "9    ['吳宗憲', '張恒嘉', '邱彰信', '于堯', '黃川禎', '劉尊彰', '李宗原...     0  \n",
      "10                               ['徐少東', '劉明冠', '張永昌']     0  \n",
      "11                                             ['張淑晶']     0  \n",
      "12                                             ['許正雄']     0  \n",
      "13                        ['王羿雄', '黃彥儒', '黃哲修', '陳震歐']     0  \n",
      "14                        ['黃睿靚', '陳敏薰', '陳水扁', '陳致中']     0  \n",
      "15                                             ['許志堅']     0  \n",
      "16                                      ['黃振榮', '陳武騰']     0  \n",
      "17                                             ['陳淳伍']     0  \n",
      "18                                             ['劉進福']     0  \n",
      "19                                      ['連千毅', '鄭又仁']     0  \n",
      "20                                      ['李士綸', '吳哲瑋']     0  \n",
      "21                        ['林昱伯', '周漢祥', '林煒智', '林睿耆']     0  \n",
      "22                                             ['鄭淑珠']     0  \n",
      "23                                      ['楊正平', '蔡思庭']     0  \n",
      "24                                             ['林文章']     0  \n",
      "25   ['王春容', '蔡登裕', '郭再旺', '郭義禮', '吳勝夫', '王協模', '廖聰昇']     0  \n",
      "26                        ['李深淵', '黃文焱', '賴建誠', '陳西元']     0  \n",
      "27                                             ['葉添洽']     0  \n",
      "28                                             ['許祈文']     0  \n",
      "29                       ['阮氏秋雲', '劉明楊', '朱明俊', '蘇嘉美']     0  \n",
      "..                                                 ...   ...  \n",
      "342                                            ['顏政德']     0  \n",
      "343                                            ['林欣月']     0  \n",
      "344                                            ['林政賢']     0  \n",
      "345                                     ['林煜傑', '李育英']     0  \n",
      "346                                     ['林啟賢', '溫良明']     0  \n",
      "347                              ['李佰全', '葉玲', '林陀桂英']     0  \n",
      "348                       ['葉嘉雄', '彭達明', '林振宏', '李世昌']     0  \n",
      "349                                     ['林若蕎', '林耿宏']     0  \n",
      "350                                     ['鄧超鴻', '道克明']     0  \n",
      "351                                            ['洪勝明']     0  \n",
      "352                                     ['吳佳駿', '林聖凱']     0  \n",
      "353                                     ['陳啟清', '張月蕉']     0  \n",
      "354                                            ['陳揚宗']     0  \n",
      "355                                     ['林繼蘇', '徐詩彥']     0  \n",
      "356                                            ['林家興']     0  \n",
      "357                                            ['朱松偉']     0  \n",
      "358                                            ['陳銘璋']     0  \n",
      "359                                            ['陳清江']     0  \n",
      "360                              ['崔明禮', '汪惠南', '周榮華']     0  \n",
      "361                                            ['邱世忠']     0  \n",
      "362                                     ['王禹婕', '林育賢']     0  \n",
      "363                                            ['林右正']     0  \n",
      "364                                            ['邱垂貞']     0  \n",
      "365          ['林維屹', '林孟良', '林孟函', '郭雨隴', '彭紹軒', '林劼']     0  \n",
      "366                                            ['紀雅玲']     0  \n",
      "367                                     ['王隆昌', '吳淑珍']     0  \n",
      "368         ['王姝茵', '張陳淑媜', '張安樂', '張瑋', '李新一', '張馥堂']     0  \n",
      "369                                            ['楚瑞芳']     0  \n",
      "370                                            ['邱佳亮']     0  \n",
      "371                                            ['郭政權']     0  \n",
      "\n",
      "[372 rows x 5 columns]\n"
     ]
    }
   ],
   "source": [
    "def function(a): \n",
    "    if 'nownews' in a: \n",
    "        return 1\n",
    "    else: \n",
    "        return 0 \n",
    "#div,p分流\n",
    "tab['test'] = tab.apply(lambda x: function(x.hyperlink), axis = 1) "
   ]
  },
  {
   "cell_type": "code",
   "execution_count": 71,
   "metadata": {},
   "outputs": [],
   "source": [
    "import requests\n",
    "import re\n",
    "from requests.packages import urllib3\n",
    "urllib3.disable_warnings()\n",
    "headers={\n",
    "    'User-agent':'Mozilla/5.0 (Windows NT 10.0; Win64; x64) AppleWebKit/537.36 (KHTML, like Gecko) Chrome/83.0.4103.97 Safari/537.36'\n",
    "}\n",
    "from bs4 import BeautifulSoup\n",
    "def function(a,b): \n",
    "    if b==0:\n",
    "        r=requests.get(a,verify=False,headers=headers)\n",
    "        r.encoding='utf-8'\n",
    "        r=BeautifulSoup(r.text,'lxml') #以lxml為解碼器\n",
    "        r=r.find_all('p')\n",
    "        r='%s'*len(r) % tuple(r) \n",
    "        r=r.strip()\n",
    "        r1= re.compile(r'[<p> /]')\n",
    "        r= r1.sub('' ,r )\n",
    "        return r\n",
    "    else:\n",
    "        r=requests.get(a,verify=False,headers=headers)\n",
    "        r.encoding='utf-8'\n",
    "        r=BeautifulSoup(r.text,'lxml') #以lxml為解碼器\n",
    "        r=r.get_text() \n",
    "        r=r.split('(function (d, a, b, l, e, _)')[0].split('大')[1].split('NOWnews關鍵字')[0]\n",
    "        r=r.strip()\n",
    "        r1= re.compile(r'[<p> /]')\n",
    "        r= r1.sub('' ,r )\n",
    "        return r\n",
    "#div,p分流\n",
    "tab['result'] = tab.apply(lambda x: function(x.hyperlink,x.test), axis = 1) "
   ]
  },
  {
   "cell_type": "code",
   "execution_count": 76,
   "metadata": {},
   "outputs": [],
   "source": [
    "tab.to_csv('jade.csv', index = False)"
   ]
  },
  {
   "cell_type": "markdown",
   "metadata": {},
   "source": [
    "## 驗證分流結果"
   ]
  },
  {
   "cell_type": "code",
   "execution_count": 72,
   "metadata": {},
   "outputs": [
    {
     "name": "stdout",
     "output_type": "stream",
     "text": [
      "https://www.nownews.com/news/20190802/3537141/\n"
     ]
    }
   ],
   "source": [
    "print(tab.hyperlink[69])"
   ]
  },
  {
   "cell_type": "code",
   "execution_count": 73,
   "metadata": {},
   "outputs": [
    {
     "name": "stdout",
     "output_type": "stream",
     "text": [
      "（中央社記者林長順台北2日電）台北地檢署偵辦菸品走私案，昨天約談華航前資深副總羅雅美、前空品處副總邱彰信、協理于堯等8人。檢方複訊後，今天凌晨諭令邱彰信新台幣70萬元交保，羅雅美請回。檢方為釐清華航辦理專機免稅菸品買賣流程，昨天約談羅雅美、邱彰信、于堯、黃川禎等8人說明，由於羅、邱日前被民眾告發瀆職等罪，檢察官以他字案被告約談兩人說明。于堯則被轉為貪污案被告。檢察官複訊後，昨天晚間先諭令于堯50萬元交保，今天凌晨諭令邱彰信70萬元交保、羅雅美請回。（編輯：唐聲揚）1080802\n"
     ]
    }
   ],
   "source": [
    "print(tab.result[69])"
   ]
  },
  {
   "cell_type": "markdown",
   "metadata": {},
   "source": [
    "## 調校區"
   ]
  },
  {
   "cell_type": "code",
   "execution_count": 52,
   "metadata": {},
   "outputs": [],
   "source": [
    "#爬文第一步&讓網站以為你是真人(User-agent的輸入)\n",
    "import requests\n",
    "from requests.packages import urllib3\n",
    "urllib3.disable_warnings()\n",
    "headers={\n",
    "    'User-agent':'Mozilla/5.0 (Windows NT 10.0; Win64; x64) AppleWebKit/537.36 (KHTML, like Gecko) Chrome/83.0.4103.97 Safari/537.36'\n",
    "}\n",
    "r=requests.get('https://www.nownews.com/news/20190802/3537141/',verify=False,headers=headers)"
   ]
  },
  {
   "cell_type": "code",
   "execution_count": 53,
   "metadata": {},
   "outputs": [],
   "source": [
    "#爬文解碼\n",
    "from bs4 import BeautifulSoup\n",
    "r.encoding='utf-8'\n",
    "soup=BeautifulSoup(r.text,'lxml') #以liml為解碼器"
   ]
  },
  {
   "cell_type": "code",
   "execution_count": 61,
   "metadata": {},
   "outputs": [
    {
     "name": "stdout",
     "output_type": "stream",
     "text": [
      "（中央社記者林長順台北2日電）台北地檢署偵辦菸品走私案，昨天約談華航前資深副總羅雅美、前空品處副總邱彰信、協理于堯等8人。檢方複訊後，今天凌晨諭令邱彰信新台幣70萬元交保，羅雅美請回。檢方為釐清華航辦理專機免稅菸品買賣流程，昨天約談羅雅美、邱彰信、于堯、黃川禎等8人說明，由於羅、邱日前被民眾告發瀆職等罪，檢察官以他字案被告約談兩人說明。于堯則被轉為貪污案被告。檢察官複訊後，昨天晚間先諭令于堯50萬元交保，今天凌晨諭令邱彰信70萬元交保、羅雅美請回。（編輯：唐聲揚）1080802\n"
     ]
    }
   ],
   "source": [
    "#取內容試探\n",
    "title=soup.find_all('title')\n",
    "article=soup.find_all('div')\n",
    "#article.pop(0) #三立新聞刪除記者名字\n",
    "gama=soup.get_text()\n",
    "beta=gama.split('(function (d, a, b, l, e, _)')[0].split('大')[1].split('NOWnews關鍵字')[0]\n",
    "r=beta.strip()\n",
    "r1= re.compile(r'[<p> /]')\n",
    "r= r1.sub('' ,r )\n",
    "print(r)"
   ]
  },
  {
   "cell_type": "code",
   "execution_count": 50,
   "metadata": {},
   "outputs": [
    {
     "name": "stdout",
     "output_type": "stream",
     "text": [
      "記者王家珩、黃大風／台北報導主嫌林耿宏是集團的精神領袖，經常在臉書上PO跑車，或買名牌的炫富照，最常用的口號就是三年內買房買車，在直銷界相當資深。他擔任過綠色小鎮的董事長，還有萬霖福瑞麒的總經理，這2間公司不是遭到掏空倒閉，就是被控吸金，之後他又改賣虛擬幣，似乎換湯不換藥。style=\"text-align:center;\"imgalt=\"\"src=\"htts:attach.setn.comnewsimages201901261755694-XXL.jg\"style=\"text-align:center;\"▲林耿宏在直銷界相當資深。（圖／翻攝自林耿宏臉書）跑車一字排開，在公路上呼嘯而過，看到這些影片，怎能不讓年輕人熱血沸騰？其中開著紅色跑車、戴著墨鏡耍酷帥氣走下車，他是林耿宏，擔任團隊的精神領袖，臉書上不是和跑車合照就是買名牌炫富。style=\"text-align:center;\"imgalt=\"\"src=\"htts:attach.setn.comnewsimages201901261755696-XXL.jg\"style=\"text-align:center;\"▲林若蕎和林耿宏打著三年內買房買車的名義，吸引不少人做直銷。（圖／翻攝自林若蕎臉書）靠在跑車上秀出修長美腿，她是千蕎團隊負責人林若蕎，他和林耿宏在臉書上打著三年內買房買車，投資馬上可以大賺一筆，吸引不少人投入。林耿宏：「各位朋友大家好，我是綠色小鎮董事長林耿宏。」style=\"text-align:center;\"imgalt=\"\"src=\"htts:attach.setn.comnewsimages201901261755697-XXL.jg\"style=\"text-align:center;\"▲林耿宏過去曾2度做直銷詐財。（圖／翻攝自林耿宏臉書）林耿宏2013年擔任綠色小鎮董事長，財報灌水吸金上億，將近40間加盟店倒閉，之後林耿宏換湯不換藥，擔任萬霖福瑞麒總經理。年度大會在兩台超跑加持下，現場陷入瘋狂，只是這間公司一樣被爆吸金。style=\"text-align:center;\"imgalt=\"\"src=\"htts:attach.setn.comnewsimages201901261755698-XXL.jg\"被害人：「如果父母不同意的話，他們會叫會員拍自己父母的照片，或者代刻印章，他們會幫你處理。」style=\"text-align:center;\"imgalt=\"\"src=\"htts:attach.setn.comnewsimages201901261755700-XXL.jg\"style=\"text-align:center;\"▲林耿宏曾堅稱自己覺對不做吸金詐騙。（圖／翻攝自林耿宏臉書）甚至為了吸引年輕人加入，誘騙他們私刻印章，林耿宏曾發文：「我做人做事很靠譜，絕對不做吸金詐騙。」文底下還推薦加密貨幣IBCoin，根本是自打嘴巴，林耿宏被抓交保，出來繼續重操舊業，在案件還沒定讞之前，恐怕類似行徑不會停止。\n",
      "\n"
     ]
    }
   ],
   "source": [
    "#取內容\n",
    "#由於試探會把所有的p內容蒐羅，整成一個list，每段一個位置\n",
    "#以下將一個list的內容統合成一串字串\n",
    "import re\n",
    "content='%s'*len(article) % tuple(article)  \n",
    "content1=content.strip()\n",
    "content2= re.compile(r'[<p> /]')\n",
    "content3= content2.sub('' , content1)\n",
    "print(content3)"
   ]
  },
  {
   "cell_type": "code",
   "execution_count": 39,
   "metadata": {},
   "outputs": [],
   "source": []
  }
 ],
 "metadata": {
  "kernelspec": {
   "display_name": "Python 3",
   "language": "python",
   "name": "python3"
  },
  "language_info": {
   "codemirror_mode": {
    "name": "ipython",
    "version": 3
   },
   "file_extension": ".py",
   "mimetype": "text/x-python",
   "name": "python",
   "nbconvert_exporter": "python",
   "pygments_lexer": "ipython3",
   "version": "3.7.3"
  }
 },
 "nbformat": 4,
 "nbformat_minor": 2
}
